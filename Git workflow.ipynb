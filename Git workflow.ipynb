{
 "metadata": {
  "name": ""
 },
 "nbformat": 3,
 "nbformat_minor": 0,
 "worksheets": [
  {
   "cells": [
    {
     "cell_type": "markdown",
     "metadata": {},
     "source": [
      "## Setup\n",
      "\n",
      "First, cd into the directory you're going to do work in.\n",
      "\n",
      "Then clone the ACME repository there, and cd into it"
     ]
    },
    {
     "cell_type": "code",
     "collapsed": false,
     "input": [
      "%%bash\n",
      "cd /tmp\n",
      "\n",
      "git clone git@github.com:ACME-Climate/ACME\n",
      "\n",
      "cd ACME"
     ],
     "language": "python",
     "metadata": {},
     "outputs": [
      {
       "output_type": "stream",
       "stream": "stderr",
       "text": [
        "Cloning into 'ACME'...\n"
       ]
      }
     ],
     "prompt_number": 1
    },
    {
     "cell_type": "code",
     "collapsed": false,
     "input": [
      "%cd /tmp/ACME"
     ],
     "language": "python",
     "metadata": {},
     "outputs": [
      {
       "output_type": "stream",
       "stream": "stdout",
       "text": [
        "/tmp/ACME\n"
       ]
      }
     ],
     "prompt_number": 2
    },
    {
     "cell_type": "markdown",
     "metadata": {},
     "source": [
      "Now we can look at the branches in this repository:"
     ]
    },
    {
     "cell_type": "code",
     "collapsed": false,
     "input": [
      "%%bash\n",
      "git branch # Lists local branches"
     ],
     "language": "python",
     "metadata": {},
     "outputs": [
      {
       "output_type": "stream",
       "stream": "stdout",
       "text": [
        "* master\n"
       ]
      }
     ],
     "prompt_number": 3
    },
    {
     "cell_type": "code",
     "collapsed": false,
     "input": [
      "%%bash\n",
      "git branch -r # Lists remote branches"
     ],
     "language": "python",
     "metadata": {},
     "outputs": [
      {
       "output_type": "stream",
       "stream": "stdout",
       "text": [
        "  origin/HEAD -> origin/master\n",
        "  origin/atmgrp/v0.0.1\n",
        "  origin/azamat/machinefiles/depends_mira\n",
        "  origin/azamat/machinefiles/mira-soft-env\n",
        "  origin/azamat/machinefiles/mira_quicker_builds\n",
        "  origin/azamat/machinefiles/shr_reprosum_mod_fix\n",
        "  origin/dmricciuto/machinefiles/oic2\n",
        "  origin/douglasjacobsen/machinefiles/lanl_new_dinloc\n",
        "  origin/douglasjacobsen/mpaso/submodule-setup\n",
        "  origin/douglasjacobsen/mpaso/submodule-setup-test\n",
        "  origin/douglasjacobsen/utils/update-esmf-timemgr\n",
        "  origin/easterrc/atm/newaerosol1\n",
        "  origin/jayeshkrishna/machinefiles/bugfix-pio-fs-hints\n",
        "  origin/jayeshkrishna/machinefiles/cetus\n",
        "  origin/jayeshkrishna/utils_timing/bugfix_cmake_build\n",
        "  origin/jed/lnd/next-merge-clm-4.5.1\n",
        "  origin/jeremyfyke/cpl/ice_ocean_coupling\n",
        "  origin/jgfouca/ccsm_utils/acme_test_wait_signal_handling\n",
        "  origin/jgfouca/ccsm_utils/another_redsky_config_fix\n",
        "  origin/jgfouca/ccsm_utils/melvin_config_fix\n",
        "  origin/jgfouca/ccsm_utils/redsky_config_fix\n",
        "  origin/jgfouca/ccsm_utils/redsky_env_change\n",
        "  origin/jgfouca/ccsm_utils/redsky_gfortran_config\n",
        "  origin/jgfouca/lnd/bring-in-clm-4.5.1\n",
        "  origin/jgfouca/redsky-test-branch\n",
        "  origin/jnjohnsonlbl/scripts/acme_developer_suite\n",
        "  origin/kaizhangpnl/atm/ic-mods\n",
        "  origin/kaizhangpnl/atm/ic-mods-atmgrp-before-polar\n",
        "  origin/maint\n",
        "  origin/maint-0.0\n",
        "  origin/maltrud/machinefiles/mustang\n",
        "  origin/master\n",
        "  origin/milenaveneziani/POP/tracer-budget\n",
        "  origin/milenaveneziani/POP/tracer-budget-v0.0\n",
        "  origin/mlbranstetter/cam/V0_tuning\n",
        "  origin/mrnorman/acme/port-to-chester\n",
        "  origin/mrnorman/cam-se/perf-ensembles\n",
        "  origin/mrnorman/cam-se/perf-sensitivity-merge\n",
        "  origin/mrnorman/cam-se/perf-sensitivity-v0tuning\n",
        "  origin/mrnorman/cam-tracers/openacc\n",
        "  origin/mt5555/cam/V0_tuning\n",
        "  origin/mt5555/interpic/redsky\n",
        "  origin/next\n",
        "  origin/rickarchibald/build/titan-intel-cray\n",
        "  origin/singhbalwinder/atm/polar-mods\n",
        "  origin/singhbalwinder/atm/rrtmg-diffsolver-bugfix\n",
        "  origin/singhbalwinder/machinefiles/pnnl-clusters-v1\n",
        "  origin/tangq/cam/RRM\n",
        "  origin/wlin/atm/capt\n",
        "  origin/wlin/atm/convection\n",
        "  origin/worleyph/rtm/rtm_mods_for_cray\n",
        "  origin/worleyph/scripts/more_provenance\n",
        "  origin/worleyph/scripts/more_provenance_and_pio_instr_and_cam_instr_and_mpi_fix\n",
        "  origin/worleyph/scripts/syslog_endofrun_termination\n"
       ]
      }
     ],
     "prompt_number": 4
    },
    {
     "cell_type": "code",
     "collapsed": false,
     "input": [
      "%%bash\n",
      "git branch -r # Lists all branches"
     ],
     "language": "python",
     "metadata": {},
     "outputs": [
      {
       "output_type": "stream",
       "stream": "stdout",
       "text": [
        "  origin/HEAD -> origin/master\n",
        "  origin/atmgrp/v0.0.1\n",
        "  origin/azamat/machinefiles/depends_mira\n",
        "  origin/azamat/machinefiles/mira-soft-env\n",
        "  origin/azamat/machinefiles/mira_quicker_builds\n",
        "  origin/azamat/machinefiles/shr_reprosum_mod_fix\n",
        "  origin/dmricciuto/machinefiles/oic2\n",
        "  origin/douglasjacobsen/machinefiles/lanl_new_dinloc\n",
        "  origin/douglasjacobsen/mpaso/submodule-setup\n",
        "  origin/douglasjacobsen/mpaso/submodule-setup-test\n",
        "  origin/douglasjacobsen/utils/update-esmf-timemgr\n",
        "  origin/easterrc/atm/newaerosol1\n",
        "  origin/jayeshkrishna/machinefiles/bugfix-pio-fs-hints\n",
        "  origin/jayeshkrishna/machinefiles/cetus\n",
        "  origin/jayeshkrishna/utils_timing/bugfix_cmake_build\n",
        "  origin/jed/lnd/next-merge-clm-4.5.1\n",
        "  origin/jeremyfyke/cpl/ice_ocean_coupling\n",
        "  origin/jgfouca/ccsm_utils/acme_test_wait_signal_handling\n",
        "  origin/jgfouca/ccsm_utils/another_redsky_config_fix\n",
        "  origin/jgfouca/ccsm_utils/melvin_config_fix\n",
        "  origin/jgfouca/ccsm_utils/redsky_config_fix\n",
        "  origin/jgfouca/ccsm_utils/redsky_env_change\n",
        "  origin/jgfouca/ccsm_utils/redsky_gfortran_config\n",
        "  origin/jgfouca/lnd/bring-in-clm-4.5.1\n",
        "  origin/jgfouca/redsky-test-branch\n",
        "  origin/jnjohnsonlbl/scripts/acme_developer_suite\n",
        "  origin/kaizhangpnl/atm/ic-mods\n",
        "  origin/kaizhangpnl/atm/ic-mods-atmgrp-before-polar\n",
        "  origin/maint\n",
        "  origin/maint-0.0\n",
        "  origin/maltrud/machinefiles/mustang\n",
        "  origin/master\n",
        "  origin/milenaveneziani/POP/tracer-budget\n",
        "  origin/milenaveneziani/POP/tracer-budget-v0.0\n",
        "  origin/mlbranstetter/cam/V0_tuning\n",
        "  origin/mrnorman/acme/port-to-chester\n",
        "  origin/mrnorman/cam-se/perf-ensembles\n",
        "  origin/mrnorman/cam-se/perf-sensitivity-merge\n",
        "  origin/mrnorman/cam-se/perf-sensitivity-v0tuning\n",
        "  origin/mrnorman/cam-tracers/openacc\n",
        "  origin/mt5555/cam/V0_tuning\n",
        "  origin/mt5555/interpic/redsky\n",
        "  origin/next\n",
        "  origin/rickarchibald/build/titan-intel-cray\n",
        "  origin/singhbalwinder/atm/polar-mods\n",
        "  origin/singhbalwinder/atm/rrtmg-diffsolver-bugfix\n",
        "  origin/singhbalwinder/machinefiles/pnnl-clusters-v1\n",
        "  origin/tangq/cam/RRM\n",
        "  origin/wlin/atm/capt\n",
        "  origin/wlin/atm/convection\n",
        "  origin/worleyph/rtm/rtm_mods_for_cray\n",
        "  origin/worleyph/scripts/more_provenance\n",
        "  origin/worleyph/scripts/more_provenance_and_pio_instr_and_cam_instr_and_mpi_fix\n",
        "  origin/worleyph/scripts/syslog_endofrun_termination\n"
       ]
      }
     ],
     "prompt_number": 5
    },
    {
     "cell_type": "markdown",
     "metadata": {},
     "source": [
      "We can also look at the tags in the repository:\n",
      "\n",
      "**NOTE**: There is no such thing as a remote tag, so this will list **all** tags"
     ]
    },
    {
     "cell_type": "code",
     "collapsed": false,
     "input": [
      "%%bash\n",
      "git tag # Lists all tags"
     ],
     "language": "python",
     "metadata": {},
     "outputs": [
      {
       "output_type": "stream",
       "stream": "stdout",
       "text": [
        "archive/cpl/v0.1-dcs\n",
        "archive/cpl/v0.1-dcs+seasalt\n",
        "v0.0\n",
        "v0.0.1\n",
        "v0.0.2\n",
        "v0.0.3\n",
        "v0.1\n"
       ]
      }
     ],
     "prompt_number": 6
    },
    {
     "cell_type": "markdown",
     "metadata": {},
     "source": [
      "Now, let's say we want to create a new branch off of v0.1.\n",
      "\n",
      "Before we do that, let's look at the history of v0.1, but only the first parent history. The first parent history is only the history that was directly committed to this branch. If a commit was a merge commit, the merge commit is the only one that will be shown, not the extra commits that merge introduces."
     ]
    },
    {
     "cell_type": "code",
     "collapsed": false,
     "input": [
      "%%bash\n",
      "git log --graph --oneline --decorate --first-parent v0.1"
     ],
     "language": "python",
     "metadata": {},
     "outputs": [
      {
       "output_type": "stream",
       "stream": "stdout",
       "text": [
        "* 5d8827b (tag: v0.1, origin/dmricciuto/machinefiles/oic2) Merge jgfouca/ccsm_utils/testcase_env_bug_fix\n",
        "* ef65c08 Merge branch jgfouca/ccsm_utils/acme_test_wait_tool\n",
        "* 2f255df Merge branch 'rickarchibald/build/titan-intel-cray'\n",
        "* 92e4cc3 Merge branch 'jgfouca/ccsm_utils/redsky_config'\n",
        "* a7a06e2 Merge pull request #15 from ACME-Climate/jgfouca/models/drv/perl-fixes\n",
        "* fffb533 Merge pull request #14 from ACME-Climate/worleyph/cam/se-gpu-restoration\n",
        "* ed554ed Merge pull request #9 from ACME-Climate/worleyph/Machines/mira-mkbatch-fix\n",
        "* 5342f0c Merge pull request #8 from ACME-Climate/azamat/clm4_5/mira_fix-CNSummaryMod.F90\n",
        "* a5d190d Merge branch worleyph/scripts/cesm-variable-instantiation-fix\n",
        "* 5d00d02 Merge branch worleyph/scripts/git-and-svn-test-fix\n",
        "* 7dd4280 Merge branch maint-0.0\n",
        "* 426d74b Merge branch 'taylorm/scripts/mira' [PR 7]\n",
        "* d2a1d6f Merge pull request #5 from ACME-Climate/singhbalwinder/machinefiles/pnnl-clusters\n",
        "* 1627ae5 Merge tag 'v0.0.2'\n",
        "* a07326b Merge worleyph/acme/C1_performance_instrumentation\n",
        "* 310d5e2 Merge tag 'v0.0.1'\n",
        "* f27fac7 (origin/maint) Importing cesm1_3_beta10\n",
        "* 330e19c (tag: v0.0) Importing cesm1_2_rel06\n"
       ]
      }
     ],
     "prompt_number": 7
    },
    {
     "cell_type": "markdown",
     "metadata": {},
     "source": [
      "To create a branch off of v0.1, we'll use the `git checkout` command with the `-b` flag. This works like following two commands in one.\n",
      "\n",
      "```\n",
      "git branch <branch_name> <branch_point>\n",
      "git checkout <branch_name>\n",
      "```\n",
      "\n",
      "After the branch is created, we'll look at the history of it to see how the above log changes."
     ]
    },
    {
     "cell_type": "code",
     "collapsed": false,
     "input": [
      "%%bash\n",
      "git checkout -b github-username/component/project v0.1\n",
      "git log --graph --oneline --decorate --first-parent github-username/component/project"
     ],
     "language": "python",
     "metadata": {},
     "outputs": [
      {
       "output_type": "stream",
       "stream": "stdout",
       "text": [
        "* 5d8827b (HEAD, tag: v0.1, origin/dmricciuto/machinefiles/oic2, github-username/component/project) Merge jgfouca/ccsm_utils/testcase_env_bug_fix\n",
        "* ef65c08 Merge branch jgfouca/ccsm_utils/acme_test_wait_tool\n",
        "* 2f255df Merge branch 'rickarchibald/build/titan-intel-cray'\n",
        "* 92e4cc3 Merge branch 'jgfouca/ccsm_utils/redsky_config'\n",
        "* a7a06e2 Merge pull request #15 from ACME-Climate/jgfouca/models/drv/perl-fixes\n",
        "* fffb533 Merge pull request #14 from ACME-Climate/worleyph/cam/se-gpu-restoration\n",
        "* ed554ed Merge pull request #9 from ACME-Climate/worleyph/Machines/mira-mkbatch-fix\n",
        "* 5342f0c Merge pull request #8 from ACME-Climate/azamat/clm4_5/mira_fix-CNSummaryMod.F90\n",
        "* a5d190d Merge branch worleyph/scripts/cesm-variable-instantiation-fix\n",
        "* 5d00d02 Merge branch worleyph/scripts/git-and-svn-test-fix\n",
        "* 7dd4280 Merge branch maint-0.0\n",
        "* 426d74b Merge branch 'taylorm/scripts/mira' [PR 7]\n",
        "* d2a1d6f Merge pull request #5 from ACME-Climate/singhbalwinder/machinefiles/pnnl-clusters\n",
        "* 1627ae5 Merge tag 'v0.0.2'\n",
        "* a07326b Merge worleyph/acme/C1_performance_instrumentation\n",
        "* 310d5e2 Merge tag 'v0.0.1'\n",
        "* f27fac7 (origin/maint) Importing cesm1_3_beta10\n",
        "* 330e19c (tag: v0.0) Importing cesm1_2_rel06\n"
       ]
      },
      {
       "output_type": "stream",
       "stream": "stderr",
       "text": [
        "Switched to a new branch 'github-username/component/project'\n"
       ]
      }
     ],
     "prompt_number": 8
    },
    {
     "cell_type": "markdown",
     "metadata": {},
     "source": [
      "Note that the first line that is contains HEAD now also contains github-username/component/project.\n",
      "\n",
      "Now, let's modify some code in POP."
     ]
    },
    {
     "cell_type": "code",
     "collapsed": false,
     "input": [
      "%%bash\n",
      "# Do this in a terminal, add a comment some where, or make a change you want...\n",
      "echo \"!Comment...\" >> models/ocn/pop2/mpi/POP_HaloMod.F90"
     ],
     "language": "python",
     "metadata": {},
     "outputs": [],
     "prompt_number": 9
    },
    {
     "cell_type": "markdown",
     "metadata": {},
     "source": [
      "Now, let's see what git think's we've changed..."
     ]
    },
    {
     "cell_type": "code",
     "collapsed": false,
     "input": [
      "%%bash\n",
      "git status"
     ],
     "language": "python",
     "metadata": {},
     "outputs": [
      {
       "output_type": "stream",
       "stream": "stdout",
       "text": [
        "On branch github-username/component/project\n",
        "Changes not staged for commit:\n",
        "  (use \"git add <file>...\" to update what will be committed)\n",
        "  (use \"git checkout -- <file>...\" to discard changes in working directory)\n",
        "\n",
        "\tmodified:   models/ocn/pop2/mpi/POP_HaloMod.F90\n",
        "\n",
        "no changes added to commit (use \"git add\" and/or \"git commit -a\")\n"
       ]
      }
     ],
     "prompt_number": 10
    },
    {
     "cell_type": "markdown",
     "metadata": {},
     "source": [
      "We can also look at the diff of what we changed (The change in this example is trivial, and adding a comment.)"
     ]
    },
    {
     "cell_type": "code",
     "collapsed": false,
     "input": [
      "%%bash\n",
      "git diff"
     ],
     "language": "python",
     "metadata": {},
     "outputs": [
      {
       "output_type": "stream",
       "stream": "stdout",
       "text": [
        "diff --git a/models/ocn/pop2/mpi/POP_HaloMod.F90 b/models/ocn/pop2/mpi/POP_HaloMod.F90\n",
        "index f753a41..cef36af 100644\n",
        "--- a/models/ocn/pop2/mpi/POP_HaloMod.F90\n",
        "+++ b/models/ocn/pop2/mpi/POP_HaloMod.F90\n",
        "@@ -6976,3 +6976,4 @@ contains\n",
        " end module POP_HaloMod\n",
        " \n",
        " !|||||||||||||||||||||||||||||||||||||||||||||||||||||||||||||||||||||||\n",
        "+!Comment...\n"
       ]
      }
     ],
     "prompt_number": 11
    },
    {
     "cell_type": "markdown",
     "metadata": {},
     "source": [
      "Let's commit our changes now!\n",
      "\n",
      "To do this, we'll use the `git commit` command with the `-a` flag. This flag tells git to stage all of our changes, and build a commit from them.\n",
      "\n",
      "When committing, we need to add a commit message. Commit messages should be formatted as follow:\n",
      "\n",
      "```\n",
      "Commit subject (summary ~50-70 characters)\n",
      "(BLANK LINE)\n",
      "Commit body, however long you need it to be:\n",
      "    - Can itemize lines with dashes, or stars...\n",
      "```"
     ]
    },
    {
     "cell_type": "code",
     "collapsed": false,
     "input": [
      "%%bash\n",
      "git commit -a -m \"Adding a comment to pop\""
     ],
     "language": "python",
     "metadata": {},
     "outputs": [
      {
       "output_type": "stream",
       "stream": "stdout",
       "text": [
        "[github-username/component/project c994612] Adding a comment to pop\n",
        " 1 file changed, 1 insertion(+)\n"
       ]
      }
     ],
     "prompt_number": 12
    },
    {
     "cell_type": "markdown",
     "metadata": {},
     "source": [
      "After the commit, we can look at the history again to see how it changes"
     ]
    },
    {
     "cell_type": "code",
     "collapsed": false,
     "input": [
      "%%bash\n",
      "git log --graph --oneline --decorate --first-parent"
     ],
     "language": "python",
     "metadata": {},
     "outputs": [
      {
       "output_type": "stream",
       "stream": "stdout",
       "text": [
        "* c994612 (HEAD, github-username/component/project) Adding a comment to pop\n",
        "* 5d8827b (tag: v0.1, origin/dmricciuto/machinefiles/oic2) Merge jgfouca/ccsm_utils/testcase_env_bug_fix\n",
        "* ef65c08 Merge branch jgfouca/ccsm_utils/acme_test_wait_tool\n",
        "* 2f255df Merge branch 'rickarchibald/build/titan-intel-cray'\n",
        "* 92e4cc3 Merge branch 'jgfouca/ccsm_utils/redsky_config'\n",
        "* a7a06e2 Merge pull request #15 from ACME-Climate/jgfouca/models/drv/perl-fixes\n",
        "* fffb533 Merge pull request #14 from ACME-Climate/worleyph/cam/se-gpu-restoration\n",
        "* ed554ed Merge pull request #9 from ACME-Climate/worleyph/Machines/mira-mkbatch-fix\n",
        "* 5342f0c Merge pull request #8 from ACME-Climate/azamat/clm4_5/mira_fix-CNSummaryMod.F90\n",
        "* a5d190d Merge branch worleyph/scripts/cesm-variable-instantiation-fix\n",
        "* 5d00d02 Merge branch worleyph/scripts/git-and-svn-test-fix\n",
        "* 7dd4280 Merge branch maint-0.0\n",
        "* 426d74b Merge branch 'taylorm/scripts/mira' [PR 7]\n",
        "* d2a1d6f Merge pull request #5 from ACME-Climate/singhbalwinder/machinefiles/pnnl-clusters\n",
        "* 1627ae5 Merge tag 'v0.0.2'\n",
        "* a07326b Merge worleyph/acme/C1_performance_instrumentation\n",
        "* 310d5e2 Merge tag 'v0.0.1'\n",
        "* f27fac7 (origin/maint) Importing cesm1_3_beta10\n",
        "* 330e19c (tag: v0.0) Importing cesm1_2_rel06\n"
       ]
      }
     ],
     "prompt_number": 13
    },
    {
     "cell_type": "markdown",
     "metadata": {},
     "source": [
      "You can see from this, the new commit `c547bfa` was created, and both HEAD and github-username/component/project were moved to it.\n",
      "\n",
      "This because HEAD points to where we currently are, and it is currently attached to github-username/component/project.\n",
      "\n",
      "To verify that our HEAD is currently attached to github-username/component/project, we can check the output of `git branch`."
     ]
    },
    {
     "cell_type": "code",
     "collapsed": false,
     "input": [
      "%%bash\n",
      "git branch"
     ],
     "language": "python",
     "metadata": {},
     "outputs": [
      {
       "output_type": "stream",
       "stream": "stdout",
       "text": [
        "* github-username/component/project\n",
        "  master\n"
       ]
      }
     ],
     "prompt_number": 14
    },
    {
     "cell_type": "markdown",
     "metadata": {},
     "source": [
      "Notice from this output that a * is placed next to github-username/component/project. This means that is the branch we are currently attached to.\n",
      "\n",
      "We can continue this process of making changes and creating commits from it until we are done with a branch.\n",
      "\n",
      "At that point, we can push the branch to the repository (that won't be covered in this notebook)."
     ]
    }
   ],
   "metadata": {}
  }
 ]
}